{
 "cells": [
  {
   "cell_type": "markdown",
   "id": "b386278d-4bc9-4f08-a9ea-fd324efca9a6",
   "metadata": {},
   "source": [
    "![KNN Classification](KNN_classification.png)\n"
   ]
  },
  {
   "cell_type": "markdown",
   "id": "8acc5e8c-7673-4bf8-82b1-1cd358201303",
   "metadata": {},
   "source": [
    "**a) The figure above illustrates the K-nearest neighbors (K-NN) algorithm using Euclidean\n",
    "distance, represented by circles. Based on a majority voting and shortest distance (when\n",
    "tie), which class would the “Test” instance be assigned to with K = 2, K = 5, K = 7,\n",
    "K = 8 ?**\n",
    "- K=2 : tie between 2 and 3\n",
    "- K=3 : tie between all\n",
    "- k=5 : 1\n",
    "- k=7 : tie between 1 and 2\n",
    "- k=8 : majority for 2"
   ]
  },
  {
   "cell_type": "markdown",
   "id": "eb1966a5-9fda-4718-b98a-06cd4b8d943e",
   "metadata": {},
   "source": [
    "**b) Explain in your own words the differences between instance-based learning and modelbased learning.**\n",
    "- Instance = il n'y a pas d'entrainement. On stocke juste les données d'entrainement et on prédit une instance basé sur la similitude avec les données d'entrainement\n",
    "- Modelbased = On entraine cette fois-ci un modèle à partir de données d'entrainement. La prédiction d'une valeur test se fera donc à partir du modèle entrainé."
   ]
  },
  {
   "cell_type": "markdown",
   "id": "2826ac73-3c91-473d-a31b-70a59475a031",
   "metadata": {},
   "source": [
    "**c) Is K-NN an instance based learning or a model-based learning ?**\n",
    "- instance based learning (pas d'entrainement)"
   ]
  },
  {
   "cell_type": "markdown",
   "id": "b040a694-e145-44b0-9be4-703a29356d24",
   "metadata": {},
   "source": [
    "**d) When are larger K beneficial ?**\n",
    "- Cela permet d'éviter d'avoir de mauvaises prédictions à cause d'un noisy sample."
   ]
  },
  {
   "cell_type": "markdown",
   "id": "d0376ae2-ce04-44d6-bd21-f2d61ef949a5",
   "metadata": {},
   "source": [
    "**e) Why are too large K detrimental ?**\n",
    "- Car on perd la localité et on peut rencontrer un problème d'underfitting (cf. ex5)"
   ]
  },
  {
   "cell_type": "markdown",
   "id": "de20234d-1614-4e3b-bd41-769b058854a0",
   "metadata": {},
   "source": [
    "**f) When used in classification mode, what can we do when the first categories have equal\n",
    "number of votes with a K-NN ?**\n",
    "- On peut calculer la moyenne des distances par classe et prendre la plus petite\n",
    "- On peut retirer le voisin le plus éloigné\n",
    "- On peut ajouter un voisin supplémentaire\n",
    "- On peut ajouter un système de pondération qui donnera plus d'importance aux voisins les plus proches"
   ]
  },
  {
   "cell_type": "markdown",
   "id": "9af3cd5f-ffd2-4b6d-b226-3cb9eaa8d7d2",
   "metadata": {},
   "source": [
    "**g) Are K-NN algorithms good candidates to build a 1’000 classes image classification system ? Explain your answer.**\n",
    "- Non car le K-NN algorithm stocke toutes les valeurs d'entrainement, il faudrait donc beaucoup de mémoires (pour chaque classe, il faud un certain nombre d'images pour prendre en compte le maximum de variations). De plus, le temps de calcul sera élevé car il doit calculer toute les distances."
   ]
  },
  {
   "cell_type": "markdown",
   "id": "6786379b-253e-4d78-8b0a-e1f85e1fef97",
   "metadata": {},
   "source": [
    "**h) Is K-NN impacted by the \"curse of dimensionnality\" ? Explain your answer.**\n",
    "- Oui, car plus la dimensionnalité augmente, plus il faut de données pour remplir les régions. En effet, si on augmente la dimensionnalité (donc les features) sans augmenter les données, on se retrouve avec beaucoups de régions vide. L'algorithme ne saura quel classe attribué à l'instance se trouvant dans cette région vide."
   ]
  },
  {
   "cell_type": "markdown",
   "id": "df368887-3a49-46a1-aec4-840c583e50f3",
   "metadata": {},
   "source": [
    "**i) Difficult What is the expected error rate computed on the training set with K = 1 ?**\n",
    "- 0% car le voisin le plus proche aura une distance de 0 pour toutes les données du training set."
   ]
  },
  {
   "cell_type": "markdown",
   "id": "e7d7bcea-2c40-4143-8994-73f94efbc768",
   "metadata": {},
   "source": [
    "**j) Difficult What is the expected error rate computed on the training set with K = 2 and\n",
    "a shortest distance based tie resolution ?**\n",
    "- 0%, car le voisin avec la distance la plus courte sera forcément de 0"
   ]
  },
  {
   "cell_type": "code",
   "execution_count": null,
   "id": "949a90f8-9891-411f-bfce-5e94f0680ccc",
   "metadata": {},
   "outputs": [],
   "source": []
  }
 ],
 "metadata": {
  "kernelspec": {
   "display_name": "Python 3 (ipykernel)",
   "language": "python",
   "name": "python3"
  },
  "language_info": {
   "codemirror_mode": {
    "name": "ipython",
    "version": 3
   },
   "file_extension": ".py",
   "mimetype": "text/x-python",
   "name": "python",
   "nbconvert_exporter": "python",
   "pygments_lexer": "ipython3",
   "version": "3.10.0"
  }
 },
 "nbformat": 4,
 "nbformat_minor": 5
}
