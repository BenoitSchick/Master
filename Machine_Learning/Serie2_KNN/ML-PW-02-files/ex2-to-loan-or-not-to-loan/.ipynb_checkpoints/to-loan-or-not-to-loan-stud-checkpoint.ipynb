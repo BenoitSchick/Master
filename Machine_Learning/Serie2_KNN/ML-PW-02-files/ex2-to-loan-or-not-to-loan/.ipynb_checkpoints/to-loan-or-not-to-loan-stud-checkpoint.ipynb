{
 "cells": [
  {
   "cell_type": "markdown",
   "id": "5da8da61",
   "metadata": {},
   "source": [
    "# Exercice 2: Classification system with KNN - To Loan or Not To Loan"
   ]
  },
  {
   "cell_type": "markdown",
   "id": "9669e493",
   "metadata": {},
   "source": [
    "## Imports"
   ]
  },
  {
   "cell_type": "markdown",
   "id": "22bbd869",
   "metadata": {},
   "source": [
    "Import some useful libraries"
   ]
  },
  {
   "cell_type": "code",
   "execution_count": 6,
   "id": "26758936",
   "metadata": {},
   "outputs": [],
   "source": [
    "import pandas as pd\n",
    "import matplotlib.pyplot as plt\n",
    "import numpy as np\n",
    "from sklearn.preprocessing import OrdinalEncoder, StandardScaler\n",
    "from sklearn.model_selection import train_test_split"
   ]
  },
  {
   "cell_type": "markdown",
   "id": "abc131ca",
   "metadata": {},
   "source": [
    "## a. Getting started"
   ]
  },
  {
   "cell_type": "markdown",
   "id": "45b518e5",
   "metadata": {},
   "source": [
    "### Data loading"
   ]
  },
  {
   "cell_type": "markdown",
   "id": "1ef061f2",
   "metadata": {},
   "source": [
    "The original dataset comes from the Kaggle's [Loan Prediction](https://www.kaggle.com/ninzaami/loan-predication) problem. The provided dataset has already undergone some processing, such as removing some columns and invalid data. Pandas is used to read the CSV file."
   ]
  },
  {
   "cell_type": "code",
   "execution_count": 7,
   "id": "a23f62b5",
   "metadata": {},
   "outputs": [],
   "source": [
    "data = pd.read_csv(\"loandata.csv\")"
   ]
  },
  {
   "cell_type": "markdown",
   "id": "02ca77c7",
   "metadata": {},
   "source": [
    "Display the head of the data."
   ]
  },
  {
   "cell_type": "code",
   "execution_count": 8,
   "id": "f4bec500",
   "metadata": {},
   "outputs": [
    {
     "data": {
      "text/html": [
       "<div>\n",
       "<style scoped>\n",
       "    .dataframe tbody tr th:only-of-type {\n",
       "        vertical-align: middle;\n",
       "    }\n",
       "\n",
       "    .dataframe tbody tr th {\n",
       "        vertical-align: top;\n",
       "    }\n",
       "\n",
       "    .dataframe thead th {\n",
       "        text-align: right;\n",
       "    }\n",
       "</style>\n",
       "<table border=\"1\" class=\"dataframe\">\n",
       "  <thead>\n",
       "    <tr style=\"text-align: right;\">\n",
       "      <th></th>\n",
       "      <th>Gender</th>\n",
       "      <th>Married</th>\n",
       "      <th>Education</th>\n",
       "      <th>TotalIncome</th>\n",
       "      <th>LoanAmount</th>\n",
       "      <th>CreditHistory</th>\n",
       "      <th>LoanStatus</th>\n",
       "    </tr>\n",
       "  </thead>\n",
       "  <tbody>\n",
       "    <tr>\n",
       "      <th>0</th>\n",
       "      <td>Male</td>\n",
       "      <td>Yes</td>\n",
       "      <td>Graduate</td>\n",
       "      <td>6091.0</td>\n",
       "      <td>128.0</td>\n",
       "      <td>1.0</td>\n",
       "      <td>N</td>\n",
       "    </tr>\n",
       "    <tr>\n",
       "      <th>1</th>\n",
       "      <td>Male</td>\n",
       "      <td>Yes</td>\n",
       "      <td>Graduate</td>\n",
       "      <td>3000.0</td>\n",
       "      <td>66.0</td>\n",
       "      <td>1.0</td>\n",
       "      <td>Y</td>\n",
       "    </tr>\n",
       "    <tr>\n",
       "      <th>2</th>\n",
       "      <td>Male</td>\n",
       "      <td>Yes</td>\n",
       "      <td>Not Graduate</td>\n",
       "      <td>4941.0</td>\n",
       "      <td>120.0</td>\n",
       "      <td>1.0</td>\n",
       "      <td>Y</td>\n",
       "    </tr>\n",
       "    <tr>\n",
       "      <th>3</th>\n",
       "      <td>Male</td>\n",
       "      <td>No</td>\n",
       "      <td>Graduate</td>\n",
       "      <td>6000.0</td>\n",
       "      <td>141.0</td>\n",
       "      <td>1.0</td>\n",
       "      <td>Y</td>\n",
       "    </tr>\n",
       "    <tr>\n",
       "      <th>4</th>\n",
       "      <td>Male</td>\n",
       "      <td>Yes</td>\n",
       "      <td>Graduate</td>\n",
       "      <td>9613.0</td>\n",
       "      <td>267.0</td>\n",
       "      <td>1.0</td>\n",
       "      <td>Y</td>\n",
       "    </tr>\n",
       "  </tbody>\n",
       "</table>\n",
       "</div>"
      ],
      "text/plain": [
       "  Gender Married     Education  TotalIncome  LoanAmount  CreditHistory  \\\n",
       "0   Male     Yes      Graduate       6091.0       128.0            1.0   \n",
       "1   Male     Yes      Graduate       3000.0        66.0            1.0   \n",
       "2   Male     Yes  Not Graduate       4941.0       120.0            1.0   \n",
       "3   Male      No      Graduate       6000.0       141.0            1.0   \n",
       "4   Male     Yes      Graduate       9613.0       267.0            1.0   \n",
       "\n",
       "  LoanStatus  \n",
       "0          N  \n",
       "1          Y  \n",
       "2          Y  \n",
       "3          Y  \n",
       "4          Y  "
      ]
     },
     "execution_count": 8,
     "metadata": {},
     "output_type": "execute_result"
    }
   ],
   "source": [
    "data.head()"
   ]
  },
  {
   "cell_type": "markdown",
   "id": "e271b475",
   "metadata": {},
   "source": [
    "Data's columns:\n",
    "* **Gender:** Applicant gender (Male/ Female)\n",
    "* **Married:** Is the Applicant married? (Y/N)\n",
    "* **Education:** Applicant Education (Graduate/ Not Graduate)\n",
    "* **TotalIncome:** Applicant total income (sum of `ApplicantIncome` and `CoapplicantIncome` columns in the original dataset)\n",
    "* **LoanAmount:** Loan amount in thousands\n",
    "* **CreditHistory:** Credit history meets guidelines\n",
    "* **LoanStatus** (Target)**:** Loan approved (Y/N)"
   ]
  },
  {
   "cell_type": "markdown",
   "id": "702ce4e6",
   "metadata": {},
   "source": [
    "### Data preprocessing"
   ]
  },
  {
   "cell_type": "markdown",
   "id": "7fce724c",
   "metadata": {},
   "source": [
    "Define a list of categorical columns to encode."
   ]
  },
  {
   "cell_type": "code",
   "execution_count": 9,
   "id": "2c56efa5",
   "metadata": {},
   "outputs": [],
   "source": [
    "categorical_columns = [\"Gender\", \"Married\", \"Education\", \"LoanStatus\"]"
   ]
  },
  {
   "cell_type": "markdown",
   "id": "d8915a68",
   "metadata": {},
   "source": [
    "Encode categorical columns using the [`OrdinalEncoder`](https://scikit-learn.org/stable/modules/generated/sklearn.preprocessing.OrdinalEncoder.html) of scikit learn."
   ]
  },
  {
   "cell_type": "code",
   "execution_count": 10,
   "id": "dc5f9cda",
   "metadata": {},
   "outputs": [
    {
     "data": {
      "text/html": [
       "<div>\n",
       "<style scoped>\n",
       "    .dataframe tbody tr th:only-of-type {\n",
       "        vertical-align: middle;\n",
       "    }\n",
       "\n",
       "    .dataframe tbody tr th {\n",
       "        vertical-align: top;\n",
       "    }\n",
       "\n",
       "    .dataframe thead th {\n",
       "        text-align: right;\n",
       "    }\n",
       "</style>\n",
       "<table border=\"1\" class=\"dataframe\">\n",
       "  <thead>\n",
       "    <tr style=\"text-align: right;\">\n",
       "      <th></th>\n",
       "      <th>Gender</th>\n",
       "      <th>Married</th>\n",
       "      <th>Education</th>\n",
       "      <th>TotalIncome</th>\n",
       "      <th>LoanAmount</th>\n",
       "      <th>CreditHistory</th>\n",
       "      <th>LoanStatus</th>\n",
       "    </tr>\n",
       "  </thead>\n",
       "  <tbody>\n",
       "    <tr>\n",
       "      <th>0</th>\n",
       "      <td>1.0</td>\n",
       "      <td>1.0</td>\n",
       "      <td>0.0</td>\n",
       "      <td>6091.0</td>\n",
       "      <td>128.0</td>\n",
       "      <td>1.0</td>\n",
       "      <td>0.0</td>\n",
       "    </tr>\n",
       "    <tr>\n",
       "      <th>1</th>\n",
       "      <td>1.0</td>\n",
       "      <td>1.0</td>\n",
       "      <td>0.0</td>\n",
       "      <td>3000.0</td>\n",
       "      <td>66.0</td>\n",
       "      <td>1.0</td>\n",
       "      <td>1.0</td>\n",
       "    </tr>\n",
       "    <tr>\n",
       "      <th>2</th>\n",
       "      <td>1.0</td>\n",
       "      <td>1.0</td>\n",
       "      <td>1.0</td>\n",
       "      <td>4941.0</td>\n",
       "      <td>120.0</td>\n",
       "      <td>1.0</td>\n",
       "      <td>1.0</td>\n",
       "    </tr>\n",
       "    <tr>\n",
       "      <th>3</th>\n",
       "      <td>1.0</td>\n",
       "      <td>0.0</td>\n",
       "      <td>0.0</td>\n",
       "      <td>6000.0</td>\n",
       "      <td>141.0</td>\n",
       "      <td>1.0</td>\n",
       "      <td>1.0</td>\n",
       "    </tr>\n",
       "    <tr>\n",
       "      <th>4</th>\n",
       "      <td>1.0</td>\n",
       "      <td>1.0</td>\n",
       "      <td>0.0</td>\n",
       "      <td>9613.0</td>\n",
       "      <td>267.0</td>\n",
       "      <td>1.0</td>\n",
       "      <td>1.0</td>\n",
       "    </tr>\n",
       "  </tbody>\n",
       "</table>\n",
       "</div>"
      ],
      "text/plain": [
       "   Gender  Married  Education  TotalIncome  LoanAmount  CreditHistory  \\\n",
       "0     1.0      1.0        0.0       6091.0       128.0            1.0   \n",
       "1     1.0      1.0        0.0       3000.0        66.0            1.0   \n",
       "2     1.0      1.0        1.0       4941.0       120.0            1.0   \n",
       "3     1.0      0.0        0.0       6000.0       141.0            1.0   \n",
       "4     1.0      1.0        0.0       9613.0       267.0            1.0   \n",
       "\n",
       "   LoanStatus  \n",
       "0         0.0  \n",
       "1         1.0  \n",
       "2         1.0  \n",
       "3         1.0  \n",
       "4         1.0  "
      ]
     },
     "execution_count": 10,
     "metadata": {},
     "output_type": "execute_result"
    }
   ],
   "source": [
    "data[categorical_columns] = OrdinalEncoder().fit_transform(data[categorical_columns])\n",
    "data.head()"
   ]
  },
  {
   "cell_type": "markdown",
   "id": "df9c84b4",
   "metadata": {},
   "source": [
    "Split into `X` and `y`."
   ]
  },
  {
   "cell_type": "code",
   "execution_count": 11,
   "id": "83beacfb",
   "metadata": {},
   "outputs": [
    {
     "name": "stdout",
     "output_type": "stream",
     "text": [
      "   Gender  Married  Education  TotalIncome  LoanAmount  CreditHistory\n",
      "0     1.0      1.0        0.0       6091.0       128.0            1.0\n",
      "1     1.0      1.0        0.0       3000.0        66.0            1.0\n",
      "2     1.0      1.0        1.0       4941.0       120.0            1.0\n",
      "3     1.0      0.0        0.0       6000.0       141.0            1.0\n",
      "4     1.0      1.0        0.0       9613.0       267.0            1.0\n"
     ]
    }
   ],
   "source": [
    "X = data.drop(columns=\"LoanStatus\") # removes the LoanStatus column from data\n",
    "print(X.head())\n",
    "y = data.LoanStatus # y becomes what you want to predict --> if we might to accept the load demand\n",
    "#print(y.head())\n",
    "\n",
    "# X == input features --> 6 features (gender, married, education, totalIncome, loanAmount, creditHistory)\n",
    "# y == target output\n",
    "# (X,y) == Test + training samples (to separate !)"
   ]
  },
  {
   "cell_type": "markdown",
   "id": "e25c8f24",
   "metadata": {},
   "source": [
    "Normalize data using the [`StandardScaler`](https://scikit-learn.org/stable/modules/generated/sklearn.preprocessing.StandardScaler.html) of scikit learn."
   ]
  },
  {
   "cell_type": "code",
   "execution_count": 12,
   "id": "9c567bb7",
   "metadata": {},
   "outputs": [
    {
     "name": "stdout",
     "output_type": "stream",
     "text": [
      "     Gender   Married  Education  TotalIncome  LoanAmount  CreditHistory\n",
      "0  0.467198  0.737162  -0.503253    -0.143254   -0.208089       0.413197\n",
      "1  0.467198  0.737162  -0.503253    -0.661554   -0.979001       0.413197\n",
      "2  0.467198  0.737162   1.987072    -0.336086   -0.307562       0.413197\n",
      "3  0.467198 -1.356553  -0.503253    -0.158512   -0.046446       0.413197\n",
      "4  0.467198  0.737162  -0.503253     0.447317    1.520245       0.413197\n"
     ]
    }
   ],
   "source": [
    "X[X.columns] = StandardScaler().fit_transform(X[X.columns]) # Loi normale centrée réduite\n",
    "print(X.head())\n",
    "#plt.hist(X,bins=30)\n",
    "#plt.show()"
   ]
  },
  {
   "cell_type": "markdown",
   "id": "7437ea21",
   "metadata": {},
   "source": [
    "Convert `y` type to `int` "
   ]
  },
  {
   "cell_type": "code",
   "execution_count": 13,
   "id": "c0db7c1f",
   "metadata": {},
   "outputs": [],
   "source": [
    "y = y.astype(int)"
   ]
  },
  {
   "cell_type": "markdown",
   "id": "6d1d1f10",
   "metadata": {},
   "source": [
    "Split dataset into train and test sets."
   ]
  },
  {
   "cell_type": "code",
   "execution_count": 14,
   "id": "b05be2cc",
   "metadata": {},
   "outputs": [],
   "source": [
    "# Separation entre train set & test set\n",
    "# stratify=y ==> Garde les mêmes proportions de LoanStatus dans le train set et le test set\n",
    "# test_size=0.2 ==> 20% dans test set & 80% dans training set\n",
    "X_train, X_test, y_train, y_test = train_test_split(X, y, stratify=y, test_size=0.2, random_state=42)"
   ]
  },
  {
   "cell_type": "markdown",
   "id": "8f6d3ce6",
   "metadata": {},
   "source": [
    "## b. Dummy classifier"
   ]
  },
  {
   "cell_type": "markdown",
   "id": "80ec4058",
   "metadata": {},
   "source": [
    "Build a dummy classifier that takes decisions randomly."
   ]
  },
  {
   "cell_type": "code",
   "execution_count": 15,
   "id": "30919672",
   "metadata": {},
   "outputs": [],
   "source": [
    "class DummyClassifier():\n",
    "    \n",
    "    def __init__(self):\n",
    "        \"\"\"\n",
    "        Initialize the class.\n",
    "        \"\"\"\n",
    "        pass\n",
    "    \n",
    "    def fit(self, X, y): # On n'entraine pas un dummy classifier ! Il va prédire de manière random !\n",
    "        \"\"\"\n",
    "        Fit the dummy classifier.\n",
    "        \n",
    "        Parameters\n",
    "        ----------\n",
    "        X : Numpy array or Pandas DataFrame of shape (n_samples, n_features)\n",
    "            Training data.\n",
    "        y : Numpy array or Pandas DataFrame of shape (n_samples,)\n",
    "            Target values.\n",
    "        \"\"\"\n",
    "        self.Xtr = X\n",
    "        self.ytr = y\n",
    "        pass\n",
    "    \n",
    "    def predict(self, X):\n",
    "        \"\"\"\n",
    "        Predict the class labels for the provided data.\n",
    "\n",
    "        Parameters\n",
    "        ----------\n",
    "        X : Numpy array or Pandas DataFrame of shape (n_queries, n_features)\n",
    "            Test samples.\n",
    "\n",
    "        Returns\n",
    "        -------\n",
    "        y : Numpy array or Pandas DataFrame of shape (n_queries,)\n",
    "            Class labels for each data sample.\n",
    "        \"\"\"\n",
    "        nb_line = X.shape[0]\n",
    "        y_pred = np.zeros(nb_line, dtype=self.ytr.dtype) # init y_pred\n",
    "        for i in range(nb_line):\n",
    "            y_pred[i] = np.random.randint(2)\n",
    "\n",
    "        return y_pred\n",
    "        pass"
   ]
  },
  {
   "cell_type": "markdown",
   "id": "1dd67c48",
   "metadata": {},
   "source": [
    "Implement a function to evaluate the performance of a classification by computing the accuracy ($N_{correct}/N$)."
   ]
  },
  {
   "cell_type": "code",
   "execution_count": 32,
   "id": "184f3905",
   "metadata": {},
   "outputs": [],
   "source": [
    "def accuracy_score(y_true, y_pred):\n",
    "    N = np.size(y_true)\n",
    "    N_correct = np.sum(y_true == y_pred)\n",
    "    #for i in range(N):\n",
    "    #   if y_true.iloc[i] == y_pred[i]:\n",
    "    #        N_correct += 1\n",
    "           \n",
    "    return N_correct/N\n",
    "    \n",
    "    pass"
   ]
  },
  {
   "cell_type": "markdown",
   "id": "90dcae17",
   "metadata": {},
   "source": [
    "Compute the performance of the dummy classifier using the provided test set."
   ]
  },
  {
   "cell_type": "code",
   "execution_count": 34,
   "id": "fa666b66",
   "metadata": {},
   "outputs": [
    {
     "name": "stdout",
     "output_type": "stream",
     "text": [
      "0.5520833333333334\n"
     ]
    }
   ],
   "source": [
    "dummy = DummyClassifier()\n",
    "dummy.fit(X_train, y_train)\n",
    "print(accuracy_score(y_test, dummy.predict(X_test)))"
   ]
  },
  {
   "cell_type": "markdown",
   "id": "9e10cd97",
   "metadata": {},
   "source": [
    "## c. K-Nearest Neighbors classifier"
   ]
  },
  {
   "cell_type": "markdown",
   "id": "70009457",
   "metadata": {},
   "source": [
    "Build a K-Nearest Neighbors classifier using an Euclidian distance computation and a simple majority voting criterion."
   ]
  },
  {
   "cell_type": "code",
   "execution_count": 50,
   "id": "759e924e",
   "metadata": {},
   "outputs": [],
   "source": [
    "class KNNClassifier():\n",
    "    \n",
    "    def __init__(self, n_neighbors=3):\n",
    "        \"\"\"\n",
    "        Initialize the class.\n",
    "        \n",
    "        Parameters\n",
    "        ----------\n",
    "        n_neighbors : int, default=3\n",
    "            Number of neighbors to use by default.\n",
    "        \"\"\"\n",
    "        self.k = n_neighbors\n",
    "        pass\n",
    "    \n",
    "    def fit(self, X, y): # On n'entraine rien pour le KNN\n",
    "        \"\"\"\n",
    "        Fit the k-nearest neighbors classifier.\n",
    "        \n",
    "        Parameters\n",
    "        ----------\n",
    "        X : Numpy array or Pandas DataFrame of shape (n_samples, n_features)\n",
    "            Training data.\n",
    "        y : Numpy array or Pandas DataFrame of shape (n_samples,)\n",
    "            Target values.\n",
    "        \"\"\"\n",
    "        self.Xtr = np.array(X)\n",
    "        self.ytr = np.array(y)\n",
    "        \n",
    "        pass\n",
    "    \n",
    "    @staticmethod\n",
    "    def _euclidian_distance(a, b):\n",
    "        \"\"\"\n",
    "        Utility function to compute the euclidian distance.\n",
    "        \n",
    "        Parameters\n",
    "        ----------\n",
    "        a : Numpy array or Pandas DataFrame\n",
    "            First operand.\n",
    "        b : Numpy array or Pandas DataFrame\n",
    "            Second operand.\n",
    "        \"\"\"\n",
    "        return np.sqrt(np.sum((a - b) ** 2, axis=1))\n",
    "        pass\n",
    "\n",
    "    def majority_vote(self,label_k_voisins):\n",
    "        \n",
    "        #labels = y[k_indice_voisins]\n",
    "        nb_accepted = np.sum(label_k_voisins == 1)\n",
    "\n",
    "        if nb_accepted > len(label_k_voisins)-nb_accepted:\n",
    "            return 1    # label prédit (y^) : accepted\n",
    "        elif nb_accepted < len(label_k_voisins)-nb_accepted:\n",
    "            return 0    # label prédit (y^) : refused\n",
    "        else:\n",
    "            return -1\n",
    "        pass\n",
    "    \n",
    "    def predict(self, X):\n",
    "        \"\"\"\n",
    "        Predict the class labels for the provided data.\n",
    "\n",
    "        Parameters\n",
    "        ----------\n",
    "        X : Numpy array or Pandas DataFrame of shape (n_queries, n_features)\n",
    "            Test samples.\n",
    "\n",
    "        Returns\n",
    "        -------\n",
    "        y : Numpy array or Pandas DataFrame of shape (n_queries,)\n",
    "            Class labels for each data sample.\n",
    "        \"\"\"\n",
    "        X = np.array(X)\n",
    "        nb_line = X.shape[0] \n",
    "        y_pred = np.zeros(nb_line, dtype=self.ytr.dtype) # init y_pred\n",
    "\n",
    "        \n",
    "        for i in range(nb_line):\n",
    "           \n",
    "            ## Trouver k voisins pour chaque X[i]\n",
    "            distances = self._euclidian_distance(self.Xtr, X[i])  # Broadcast : calcul la distance entre Xtr[0 ... nb_line] et X[i]  \n",
    "                                                                    \n",
    "            k_indice_voisins = np.argsort(distances)[:self.k]       # Retourne les indices des k voisins de X[i] \n",
    "            \n",
    "\n",
    "            ## Predict by majority vote \n",
    "            y_pred[i] = self.majority_vote(self.ytr[k_indice_voisins])\n",
    "\n",
    "        return y_pred\n",
    "        pass"
   ]
  },
  {
   "cell_type": "markdown",
   "id": "6c2b4811",
   "metadata": {},
   "source": [
    "Compute the performance of the system as a function of $k = 1...7$."
   ]
  },
  {
   "cell_type": "code",
   "execution_count": 51,
   "id": "cf589e66",
   "metadata": {},
   "outputs": [
    {
     "name": "stdout",
     "output_type": "stream",
     "text": [
      "K =  1 , Accuracy =  0.6979166666666666\n",
      "K =  2 , Accuracy =  0.5520833333333334\n",
      "K =  3 , Accuracy =  0.7916666666666666\n",
      "K =  4 , Accuracy =  0.6979166666666666\n",
      "K =  5 , Accuracy =  0.8125\n",
      "K =  6 , Accuracy =  0.7604166666666666\n",
      "K =  7 , Accuracy =  0.8020833333333334\n"
     ]
    }
   ],
   "source": [
    "for i in range(1,8):\n",
    "    KNN = KNNClassifier(i)\n",
    "    KNN.fit(X_train, y_train)\n",
    "    print(\"K = \", i, \", Accuracy = \", accuracy_score(y_test, KNN.predict(X_test)))\n"
   ]
  },
  {
   "cell_type": "markdown",
   "id": "36d9f6dd-0911-4c26-8be5-e0b7bac91ab0",
   "metadata": {},
   "source": [
    "**k=5** donne les meilleures performances. Les k paires donnent de moins bon résultats que les k paires car l'algoritme ne prend pas en compte les cas où il n'y a pas de majorité. "
   ]
  },
  {
   "cell_type": "markdown",
   "id": "71c51f35",
   "metadata": {},
   "source": [
    "1) Run the KNN algorithm using only the features `TotalIncome` and `CreditHistory`."
   ]
  },
  {
   "cell_type": "code",
   "execution_count": 54,
   "id": "2f6f262b",
   "metadata": {},
   "outputs": [
    {
     "name": "stdout",
     "output_type": "stream",
     "text": [
      "K =  3 , Accuracy =  0.78125\n"
     ]
    }
   ],
   "source": [
    "KNN = KNNClassifier(3)\n",
    "KNN.fit(X_train[[\"TotalIncome\",\"CreditHistory\"]], y_train)\n",
    "print(\"K = \", 3, \", Accuracy = \", accuracy_score(y_test, KNN.predict(X_test[[\"TotalIncome\",\"CreditHistory\"]])))"
   ]
  },
  {
   "cell_type": "markdown",
   "id": "e2b1a682",
   "metadata": {},
   "source": [
    "2) Re-run the KNN algorithm using the features `TotalIncome`, `CreditHistory` and `Married`."
   ]
  },
  {
   "cell_type": "code",
   "execution_count": 55,
   "id": "c0bda7ee",
   "metadata": {},
   "outputs": [
    {
     "name": "stdout",
     "output_type": "stream",
     "text": [
      "K =  3 , Accuracy =  0.8645833333333334\n"
     ]
    }
   ],
   "source": [
    "KNN = KNNClassifier(3)\n",
    "KNN.fit(X_train[[\"TotalIncome\",\"CreditHistory\",\"Married\"]], y_train)\n",
    "print(\"K = \", 3, \", Accuracy = \", accuracy_score(y_test, KNN.predict(X_test[[\"TotalIncome\",\"CreditHistory\", \"Married\"]])))"
   ]
  },
  {
   "cell_type": "markdown",
   "id": "2724167a",
   "metadata": {},
   "source": [
    "3) Re-run the KNN algorithm using all features."
   ]
  },
  {
   "cell_type": "code",
   "execution_count": 56,
   "id": "46ec9699",
   "metadata": {},
   "outputs": [
    {
     "name": "stdout",
     "output_type": "stream",
     "text": [
      "K =  3 , Accuracy =  0.7916666666666666\n"
     ]
    }
   ],
   "source": [
    "KNN = KNNClassifier(3)\n",
    "KNN.fit(X_train, y_train)\n",
    "print(\"K = \", 3, \", Accuracy = \", accuracy_score(y_test, KNN.predict(X_test)))"
   ]
  },
  {
   "cell_type": "markdown",
   "id": "5d9b2d6b-c8cf-420e-a843-9b90c267ac8d",
   "metadata": {},
   "source": [
    "On observe le phénomène du \"Curse of dimensionality\" : en général, ajouter des features va augmenter l'accuracy comme on le voit avec 2 (78%) et 3 (86%) features. Seulement on va observer à un moment donné une baisse de l'accuracy en ajoutant de plus en plus de features. C'est ce que l'on remarque en utilisant l'algo KNN avec toutes les features, où l'accuracy atteint 79% (alors qu'avec 3 features, on avait 86%)."
   ]
  },
  {
   "cell_type": "markdown",
   "id": "5b837eaf-336f-4bcb-aea8-a40a21a6f347",
   "metadata": {},
   "source": [
    "4) How is your system taking decisions when you have an equal number of votes for both\n",
    "classes with values of k = 2, 4, 6 ?"
   ]
  },
  {
   "cell_type": "markdown",
   "id": "ac201341-ea05-4a10-87a6-0eac9ce2f9b5",
   "metadata": {},
   "source": [
    "Actuellement, l'algo ne prend pas de décision, car nous avons pas départager les classes ayant une égalité."
   ]
  },
  {
   "cell_type": "code",
   "execution_count": null,
   "id": "13dd86fe-070d-4bd3-81a6-400aec4aca4a",
   "metadata": {},
   "outputs": [],
   "source": []
  }
 ],
 "metadata": {
  "kernelspec": {
   "display_name": "Python 3 (ipykernel)",
   "language": "python",
   "name": "python3"
  },
  "language_info": {
   "codemirror_mode": {
    "name": "ipython",
    "version": 3
   },
   "file_extension": ".py",
   "mimetype": "text/x-python",
   "name": "python",
   "nbconvert_exporter": "python",
   "pygments_lexer": "ipython3",
   "version": "3.10.0"
  }
 },
 "nbformat": 4,
 "nbformat_minor": 5
}
