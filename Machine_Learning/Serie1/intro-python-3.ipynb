{
 "cells": [
  {
   "cell_type": "markdown",
   "metadata": {},
   "source": [
    "Last revision: Jean Hennebert - 12.09.2020\n",
    "\n",
    "# Introduction to Python\n",
    "**Remark**: This document is intended for the students following the Machine Learning and Deep Learning class. We assume that students are knowledgeable in other programming languages such as Java or C and that basic data structure concepts are known. If you know already Python and iPython Notebooks (such as this document), then you can avoid reading the rest of this page. If you want a rather slow introduction to Python, read the official [tutorial](https://docs.python.org/3/tutorial/index.html).\n",
    "\n",
    "Python was released in 1991 and initially developed by Guido van Rossum (Holland). Python got inspiration from Modula 3, is object-oriented and can be easily extended. Good libraries are available to work with data, to visualize it and to model it with machine learning. This is why we have chosen to do most of the exercises with Python in this class.\n",
    "\n",
    "## How to work with Python\n",
    "You have basically 3 ways to work with Python:\n",
    "\n",
    "1. Using a Python console in interactive mode. Just open a terminal and launch `python`.\n",
    "2. Using a text editor or an IDE to develop (saving \".py\" files), as you would do it in Java or C. A good IDE is [Pycharm](https://www.jetbrains.com/pycharm/) from Jet Brains.\n",
    "3. Using a iPython notebook via a web browser. The concept is similar to Mathematica notebooks where you can mix code and text inputs (using Markdown) in so-called cells. This document is actually a \".ipynb\" file.\n",
    "\n",
    "For this class we recommend to work with iPython Notebooks which is probably the best way to give us back your practical works.\n",
    "\n",
    "To install iPython notebook, you may use the [Anaconda](https://www.continuum.io/downloads) package. This is a free bundled installer of Python and other tools including the _Jupyter Notebook App_ (client-server application that allows editing and running notebooks). iPython notebooks are also supported in the IDE [Pycharm](https://www.jetbrains.com/pycharm/).\n",
    "\n",
    "## Which version of Python to use?\n",
    "There are currently two \"concurrent\" versions of Python, versions 2 and 3. The Python world has now been strongly migrating towards using Python 3. The Python world has now been migrating strongly towards using Python 3 and we therefore recommend to use 3 instead of 2. Beware that Python 2 and Python 3 have some incompatible differences in language syntax. You may also find code examples and libraries on the web that did not move yet to version 3. Share your experience with us if you have any troubles! Now, let's start with some basics.\n",
    "\n",
    "## Let's start!\n",
    "In a notebook, you have different types of cells: **Markdown cells** (like this one) where you can input your text and format it with simple [syntax](https://help.github.com/articles/basic-writing-and-formatting-syntax/), and Python **Code cells** (like the one just below). You can switch from one type to the other using the dropdown list in the notebook toolbar or using one of the keyboard shortcuts. For shortcuts see the very useful `Help` menu above.\n",
    "\n",
    "To execute a code cell, just select it with the mouse (or navigate with the arrow keys after pressing ESC), and press `SHIFT-Enter`. "
   ]
  },
  {
   "cell_type": "code",
   "execution_count": 1,
   "metadata": {
    "scrolled": true
   },
   "outputs": [
    {
     "name": "stdout",
     "output_type": "stream",
     "text": [
      "Hello Jean\n",
      "Hello Andres\n",
      "Hello Lorenz\n"
     ]
    }
   ],
   "source": [
    "names = [\"Jean\", \"Andres\", \"Lorenz\"]\n",
    "for name in names:\n",
    "    print(\"Hello\", name)"
   ]
  },
  {
   "cell_type": "markdown",
   "metadata": {},
   "source": [
    "The output of a cell execution should appear just below the cell. You may want to try by modifying the code of the cell just above.\n",
    "\n",
    "## Python basics\n",
    "\n",
    "### Basic operators\n",
    "\n",
    "The operators of Python are the following, by order of priority:\n",
    "\n",
    "| Operator | Description |\n",
    "| :-:      | ----------- |\n",
    "| `( )`    | parenthesis |\n",
    "| `-`      | arithmetic negation |\n",
    "| `**`     | power       |\n",
    "| `* /`    | multiplication and division|\n",
    "| `+ -`    | addition and subtraction|\n",
    "| `== != < <= > >=` | relational operators |\n",
    "| `not`    | logical negation |\n",
    "| `and`    | conjonction (logical and) |\n",
    "| `or`     | disjonction (logical or)  |\n",
    "\n",
    "\n",
    "Boolean values are written with `True` and `False`.\n",
    "For all operators, function equivalents are also available."
   ]
  },
  {
   "cell_type": "code",
   "execution_count": 2,
   "metadata": {},
   "outputs": [
    {
     "name": "stdout",
     "output_type": "stream",
     "text": [
      "8 8\n",
      "False\n"
     ]
    }
   ],
   "source": [
    "x = 2 ** 3    # 2 to the power of 3\n",
    "y = pow(2,3)  # function pow, equivalent to 2 ** 3\n",
    "print(x, y)   # print can take as many arguments as you need\n",
    "print(x<y)    # output is here a boolean"
   ]
  },
  {
   "cell_type": "markdown",
   "metadata": {},
   "source": [
    "### Bitwise operators\n",
    "For the happy manipulators of bits!\n",
    "\n",
    "| Command | Description |\n",
    "| :---: | --- |\n",
    "| &  | Binary AND |\n",
    "| &#124; | Binary OR |\n",
    "| ^  | Binary XOR |\n",
    "| ~  | Binary Ones Complement |\n",
    "| << | Binary Left Shift |\n",
    "| >> | Binary Right Shift |"
   ]
  },
  {
   "cell_type": "code",
   "execution_count": null,
   "metadata": {},
   "outputs": [],
   "source": [
    "a = 60            # 60 = 0011 1100 \n",
    "b = 13            # 13 = 0000 1101 \n",
    "c = 0\n",
    "\n",
    "c = a & b        # 12 = 0000 1100\n",
    "print(\"Line 1 - Value of c is \", c)\n",
    "c = a | b        # 61 = 0011 1101\n",
    "print(\"Line 2 - Value of c is \", c)\n",
    "c = a ^ b        # 49 = 0011 0001\n",
    "print(\"Line 3 - Value of c is \", c)\n",
    "c = ~a           # -61 = 1100 0011\n",
    "print(\"Line 4 - Value of c is \", c)\n",
    "c = a << 2       # 240 = 1111 0000\n",
    "print(\"Line 5 - Value of c is \", c)\n",
    "c = a >> 2       # 15 = 0000 1111\n",
    "print(\"Line 6 - Value of c is \", c)"
   ]
  },
  {
   "cell_type": "markdown",
   "metadata": {},
   "source": [
    "### Types\n",
    "Python uses dynamic typing, i.e. you don't need to declare the type of a variable before using it, Python does infer it for you. \n",
    "\n",
    "<sub>**Remark**: Variables remain in memory from one cell to the other (`type(x)` shows the type of x which was created in the previous cell.</sub>\n",
    "\n",
    "<sub>**Remark bis**: Strings in Python can be created with single or double quotes. Strings are immutable objects.</sub>"
   ]
  },
  {
   "cell_type": "code",
   "execution_count": 3,
   "metadata": {},
   "outputs": [
    {
     "name": "stdout",
     "output_type": "stream",
     "text": [
      "<class 'int'> <class 'float'> <class 'str'>\n"
     ]
    }
   ],
   "source": [
    "z = 3.1415\n",
    "message = 'hello'\n",
    "print(type(x), type(z), type(message))"
   ]
  },
  {
   "cell_type": "markdown",
   "metadata": {},
   "source": [
    "## Basic data structures\n",
    "### Lists\n",
    "In Python, lists are :\n",
    "- defined with square brackets `[]`\n",
    "- allowed to contain objects of different types\n",
    "- indexed from `0` to `len(myList)-1` (negative indexes are allowed and start from the end of the list)\n",
    "- supporting slicing to create sub-lists from the list\n",
    " - `[i:j]` creates a list using elements from index `i` to `j-1`\n",
    " - `[i:]` creates a list using elements from index `i` to the end of the list\n",
    " - `[:j]` creates a list using elements from the start of the list to index `j-1`\n",
    " - `[i:j:step]` creates a list from `i` to `j` by steps of `step`\n",
    "- mutable, i.e. the content can be dynamically modified without re-creating a list object (...well, as usual with lists); for example using the `append()` function"
   ]
  },
  {
   "cell_type": "code",
   "execution_count": 4,
   "metadata": {},
   "outputs": [
    {
     "name": "stdout",
     "output_type": "stream",
     "text": [
      "my_list                         : ['hello', 'this list', 'holds', 5, 'elements']\n",
      "length                          : 5\n",
      "1st element                     : hello\n",
      "last element                    : elements\n",
      "last element (bis)              : elements\n",
      "slicing from i to j             : ['this list', 'holds']\n",
      "slicing from start to j         : ['hello', 'this list', 'holds']\n",
      "slicing from i to j with steps  : ['hello', 'holds', 'elements']\n",
      "+ operator concatenates lists   :  ['hello', 'this list', 'holds', 5, 'elements', 'hello', 'this list', 'holds', 5, 'elements']\n",
      "mutability, 3rd element replaced: ['hello', 'this list', 'contains', 5, 'elements']\n",
      "mutability with append()        : ['hello', 'this list', 'contains', 5, 'elements', 'and now 6 elements']\n"
     ]
    }
   ],
   "source": [
    "my_list = [\"hello\", \"this list\", \"holds\", 5, \"elements\"] #we can mix types in the list\n",
    "print(\"my_list                         :\", my_list)\n",
    "print(\"length                          :\", len(my_list))\n",
    "print(\"1st element                     :\", my_list[0])\n",
    "print(\"last element                    :\", my_list[len(my_list)-1])\n",
    "print(\"last element (bis)              :\", my_list[-1])\n",
    "print(\"slicing from i to j             :\", my_list[1:3])\n",
    "print(\"slicing from start to j         :\", my_list[:3])\n",
    "print(\"slicing from i to j with steps  :\", my_list[0:5:2])\n",
    "print(\"+ operator concatenates lists   : \", my_list + my_list)\n",
    "my_list[2] = 'contains'\n",
    "print(\"mutability, 3rd element replaced:\", my_list)\n",
    "my_list.append(\"and now 6 elements\")\n",
    "print(\"mutability with append()        :\", my_list)"
   ]
  },
  {
   "cell_type": "markdown",
   "metadata": {
    "collapsed": true,
    "jupyter": {
     "outputs_hidden": true
    }
   },
   "source": [
    "You will find more information on lists and data structures in general [here](https://docs.python.org/3/tutorial/datastructures.html).\n",
    "\n",
    "### Stacks\n",
    "You can actually use lists as stacks as explained [here](https://docs.python.org/3/tutorial/datastructures.html) and more specifically with functions `list.append()` to push and `list.pop()` to pop the stack."
   ]
  },
  {
   "cell_type": "code",
   "execution_count": 7,
   "metadata": {},
   "outputs": [
    {
     "name": "stdout",
     "output_type": "stream",
     "text": [
      "['l', 'e', 'o', 'n']\n",
      "n o e l\n",
      "[]\n"
     ]
    }
   ],
   "source": [
    "my_stack = []\n",
    "my_stack.append('l')\n",
    "my_stack.append('e')\n",
    "my_stack.append('o')\n",
    "my_stack.append('n')\n",
    "print(my_stack)\n",
    "print(my_stack.pop(), my_stack.pop(), my_stack.pop(), my_stack.pop())\n",
    "print(my_stack)"
   ]
  },
  {
   "cell_type": "markdown",
   "metadata": {
    "collapsed": true,
    "jupyter": {
     "outputs_hidden": true
    }
   },
   "source": [
    "### Vector and matrices with lists\n",
    "A potential use of lists is to store vectors and matrices. For matrices, you may declare an element of the list as a list (i.e. a vector in a vector makes it a matrix isn't it?). Let's see this in practice:"
   ]
  },
  {
   "cell_type": "code",
   "execution_count": 8,
   "metadata": {},
   "outputs": [
    {
     "data": {
      "text/plain": [
       "[4, 5, 6]"
      ]
     },
     "execution_count": 8,
     "metadata": {},
     "output_type": "execute_result"
    }
   ],
   "source": [
    "my_matrix = [[1,2,3],[4,5,6],[7,8,9]]\n",
    "my_matrix[1]  #gets the 1st row of the matrix (remember an index starts at 0)"
   ]
  },
  {
   "cell_type": "markdown",
   "metadata": {
    "collapsed": true,
    "jupyter": {
     "outputs_hidden": true
    }
   },
   "source": [
    "However we do not recommend to use lists as a way to do algebra operations on vectors and matrices. This is for two main reasons:\n",
    "1. There is no type control in lists, i.e. you may mix types and therefore any vector or matrix operations you may build will be weak on lists, unless you check the types of elements (which is time consuming).\n",
    "2. There are few pre-defined math functions on lists. We recommend using other libraries that have their own data structure. A very good one is `numpy` and its pre-defined data structure `array` (see below and [here](http://docs.scipy.org/doc/numpy/user/index.html) for more info on numpy).\n",
    "\n",
    "### Vector and matrices with numpy arrays\n",
    "To import a library, use the `import` command followed by the library name. Optionnaly you may prefix the functions then imported with a `as short_name`. The short name defines actually an \"alias\" to prefix the functions available in the library. There are some widespread conventions for prefixing. Here is how most people import and prefix the `numpy` library using the `np` alias:"
   ]
  },
  {
   "cell_type": "code",
   "execution_count": 9,
   "metadata": {},
   "outputs": [
    {
     "name": "stdout",
     "output_type": "stream",
     "text": [
      "x =  [1 2 3]\n",
      "A =  [[1 2 3]\n",
      " [4 5 6]\n",
      " [7 8 9]]\n",
      "z =  [0. 0. 0. 0. 0. 0. 0. 0. 0. 0.]\n",
      "O =  [[1. 1. 1.]\n",
      " [1. 1. 1.]\n",
      " [1. 1. 1.]]\n",
      "i =  [ 0 10 20 30 40 50 60 70 80 90]\n"
     ]
    }
   ],
   "source": [
    "import numpy as np\n",
    "x = np.array([1,2,3])                   #generates a numpy array from a list, i.e. a vector\n",
    "A = np.array([[1,2,3],[4,5,6],[7,8,9]]) #array of array, i.e. a matrix\n",
    "z = np.zeros(10)                        #1x10 vector full of 0.0\n",
    "O = np.ones((3,3))                      #3x3 matrix full of 1.0\n",
    "i = np.arange(0,100,10)                 #vector of values between 0 and 100 by step of 10\n",
    "print('x = ', x)\n",
    "print('A = ', A)\n",
    "print('z = ', z)\n",
    "print('O = ', O)\n",
    "print('i = ', i)"
   ]
  },
  {
   "cell_type": "markdown",
   "metadata": {},
   "source": [
    "The `array` type from numpy is similar to lists regarding the indexing and slicing mechanisms. However, the `array` type is different to the list type :\n",
    "\n",
    "1. Arrays do not allow type mixing (which is good as less error prone)\n",
    "2. Once created, an array is not mutable and has a fixed size\n",
    "3. Many practical functions are available to create arrays\n",
    "4. Many functions are available to perform computation on arrays\n",
    "\n",
    "<sub>**Remark**: another way to import libraries it to use `from library import function_name`, in which case only the function given by its name is imported. You can use `from library import *` to import all functions from this library. In this case, there is no need for prefixes.</sub>\n"
   ]
  },
  {
   "cell_type": "markdown",
   "metadata": {},
   "source": [
    "### Tuples\n",
    "Tuples are defined with `()`. They are similar to lists as they can contain heterogeneous sequences of data. The main difference with lists is that tuples are immutable."
   ]
  },
  {
   "cell_type": "code",
   "execution_count": 10,
   "metadata": {},
   "outputs": [
    {
     "name": "stdout",
     "output_type": "stream",
     "text": [
      "t        :  (2, True, 3.1415)\n",
      "t length :  3\n",
      "t sliced :  (2, True)\n"
     ]
    }
   ],
   "source": [
    "t = (2, True, 3.1415)\n",
    "print(\"t        : \", t)\n",
    "print(\"t length : \", len(t))\n",
    "print(\"t sliced : \", t[0:2])"
   ]
  },
  {
   "cell_type": "markdown",
   "metadata": {},
   "source": [
    "### Sets\n",
    "Python offers a set data structure, defined with `{}`. Sets are used to store unordered objects. There is no notion of sequence, just a notion of being or not in the set. Duplicate objects are not allowed in sets. Sets are mutable.\n",
    "\n",
    "| Operator | Explanation                  |\n",
    "| :---:    | :---                         |\n",
    "| in\t   | Check set membership         |\n",
    "| len      | Cardinality of the set       |\n",
    "| or       | Union of 2 sets (or)         |\n",
    "| &\t       | Intersection of 2 sets (and) |\n",
    "| -\t       | Difference of 2 sets         |\n",
    "| <=       | Check sets inclusion         |\n",
    "| add(e)   | Adds element e in set        | \n",
    "| remove(e)| Removes element e from set   |"
   ]
  },
  {
   "cell_type": "code",
   "execution_count": 15,
   "metadata": {},
   "outputs": [
    {
     "name": "stdout",
     "output_type": "stream",
     "text": [
      "s            :  {False, 3, 'cat', 4.5, 6}\n",
      "s length     :  5\n",
      "is True in s :  False\n",
      "True\n",
      "{False, 'cat', 4.5, 6}\n"
     ]
    }
   ],
   "source": [
    "s = {3, 6, 'cat', 4.5, False}\n",
    "print(\"s            : \", s)\n",
    "print(\"s length     : \", len(s))\n",
    "print(\"is True in s : \", True in s)\n",
    "print(False in s)\n",
    "s.remove(3)\n",
    "print(s)"
   ]
  },
  {
   "cell_type": "markdown",
   "metadata": {},
   "source": [
    "### Dictionaries\n",
    "Sets can be used to implement dictionaries storing couples of `key:values`. This datastructure is very useful in Python."
   ]
  },
  {
   "cell_type": "code",
   "execution_count": 20,
   "metadata": {},
   "outputs": [
    {
     "name": "stdout",
     "output_type": "stream",
     "text": [
      "DesMoines is capital of Iowa\n",
      "The capital of California is  ...oops we don't know\n",
      "And now all the capitals we know about:\n",
      "  Madison is capital of Wisconsin\n",
      "  SaltLakeCity is capital of Utah\n",
      "  DesMoines is capital of Iowa\n",
      "  Sacramento is capital of California\n",
      "Madison\n",
      "Madison\n"
     ]
    }
   ],
   "source": [
    "capitals = {'Wisconsin':'Madison', 'Utah':'SaltLakeCity', 'Iowa':'DesMoines'}\n",
    "print(capitals['Iowa'], \"is capital of Iowa\")\n",
    "print(\"The capital of California is \", capitals.get(\"California\",\"...oops we don't know\"))\n",
    "capitals['California'] = 'Sacramento'  # to add a key-value pair\n",
    "print(\"And now all the capitals we know about:\")\n",
    "for key in capitals:\n",
    "    print(\" \",capitals[key] , \"is capital of\", key)\n",
    "del capitals['California']   # to delete a key\n",
    "\n",
    "print(capitals.get(\"Wisconsin\"))\n",
    "print(capitals['Wisconsin'])"
   ]
  },
  {
   "cell_type": "markdown",
   "metadata": {},
   "source": [
    "If you want to access to keys and their corresponding values, use the `items` method to iterate in the dictionary."
   ]
  },
  {
   "cell_type": "code",
   "execution_count": 21,
   "metadata": {},
   "outputs": [
    {
     "name": "stdout",
     "output_type": "stream",
     "text": [
      "Wisconsin -> Madison\n",
      "Utah -> SaltLakeCity\n",
      "Iowa -> DesMoines\n"
     ]
    }
   ],
   "source": [
    "capitals = {'Wisconsin': 'Madison', 'Utah': 'SaltLakeCity', 'Iowa': 'DesMoines'}\n",
    "for key, value in capitals.items():\n",
    "    print(key, '->', value)"
   ]
  },
  {
   "cell_type": "markdown",
   "metadata": {},
   "source": [
    "### Strings\n",
    "Python is also very friendly whent it comes to manipulate strings. The following examples are probably self-explanatory at this stage. You may find all the string methods in the [documentation](https://docs.python.org/3/library/stdtypes.html#string-methods). "
   ]
  },
  {
   "cell_type": "code",
   "execution_count": 23,
   "metadata": {},
   "outputs": [
    {
     "name": "stdout",
     "output_type": "stream",
     "text": [
      "['The', 'quick', 'brown', 'fox', 'jumps', 'over', 'the', 'lazy', 'dog']\n",
      "['THE', 'the', 3]\n",
      "['QUICK', 'quick', 5]\n",
      "['BROWN', 'brown', 5]\n",
      "['FOX', 'fox', 3]\n",
      "['JUMPS', 'jumps', 5]\n",
      "['OVER', 'over', 4]\n",
      "['THE', 'the', 3]\n",
      "['LAZY', 'lazy', 4]\n",
      "['DOG', 'dog', 3]\n",
      "[['THE', 'the', 3], ['QUICK', 'quick', 5], ['BROWN', 'brown', 5], ['FOX', 'fox', 3], ['JUMPS', 'jumps', 5], ['OVER', 'over', 4], ['THE', 'the', 3], ['LAZY', 'lazy', 4], ['DOG', 'dog', 3]]\n"
     ]
    }
   ],
   "source": [
    "words = 'The quick brown fox jumps over the lazy dog'.split()\n",
    "print(words)\n",
    "stuff = [[w.upper(), w.lower(), len(w)] for w in words]\n",
    "for i in stuff:\n",
    "    print(i)\n",
    "print(stuff)"
   ]
  },
  {
   "cell_type": "code",
   "execution_count": 26,
   "metadata": {},
   "outputs": [
    {
     "name": "stdout",
     "output_type": "stream",
     "text": [
      "  hello\n",
      " hello \n",
      "he(ell)(ell)o\n",
      "world\n",
      "hello      world       2070\n",
      "a f\n"
     ]
    }
   ],
   "source": [
    "s = \"hello\"\n",
    "print(s.rjust(7))               # right-justify a string, padding with spaces; prints \"  hello\"\n",
    "print(s.center(7))              # center a string, padding with spaces; prints \" hello \"\n",
    "print(s.replace('l', '(ell)'))  # replace all instances of one substring with another;\n",
    "                                # prints \"he(ell)(ell)o\"\n",
    "print('  world '.strip())       # strip() enleve les espaces avant et apres la string; prints \"world\"\n",
    "f = \"%s %10s %10d\" % (s, 'world', 2070) # sprintf style string formatting\n",
    "print(f)\n",
    "print('a f'.strip()) "
   ]
  },
  {
   "cell_type": "markdown",
   "metadata": {},
   "source": [
    "## Control statements\n",
    "You can control the execution with the classical conditional command `if`, iterative command `while` and `for`. The following examples should be self-explanatory. \n",
    "\n",
    "Warnings:\n",
    "* don't forget the `:` after the control expressions\n",
    "* use indentations (yes, we know, it's ugly, gasp!)\n",
    "### If statement"
   ]
  },
  {
   "cell_type": "code",
   "execution_count": null,
   "metadata": {},
   "outputs": [],
   "source": [
    "var = np.random.randint(low=1,high=7)     # var is a random int in [1,7[ (high value is exclusive)\n",
    "print(var)\n",
    "if var < 4:\n",
    "   print(\"var is 1, 2 or 3\")\n",
    "   if var == 3:\n",
    "      print(\"var is 3\")\n",
    "   elif var == 2:\n",
    "      print(\"var is 2\")\n",
    "   else:\n",
    "      print(\"var is 1\")\n",
    "elif var < 7:\n",
    "   print(\"var is 4, 5 or 6\")\n",
    "else:\n",
    "   print(\"There is a bug\")\n",
    "\n",
    "print(\"Good bye!\")"
   ]
  },
  {
   "cell_type": "markdown",
   "metadata": {},
   "source": [
    "### While statement"
   ]
  },
  {
   "cell_type": "code",
   "execution_count": null,
   "metadata": {},
   "outputs": [],
   "source": [
    "counter = 0\n",
    "while (counter <10):\n",
    "    print('counter value is:', counter)\n",
    "    counter = counter + 1"
   ]
  },
  {
   "cell_type": "markdown",
   "metadata": {},
   "source": [
    "### For statement"
   ]
  },
  {
   "cell_type": "code",
   "execution_count": 27,
   "metadata": {},
   "outputs": [
    {
     "name": "stdout",
     "output_type": "stream",
     "text": [
      "current letter:  p\n",
      "current letter:  t\n",
      "current letter:  h\n"
     ]
    }
   ],
   "source": [
    "for letter in 'python':\n",
    "    if letter=='o': break\n",
    "    if letter=='y': continue\n",
    "    print('current letter: ', letter)"
   ]
  },
  {
   "cell_type": "markdown",
   "metadata": {},
   "source": [
    "### Lists generation with comprehension\n",
    "Python offers a very nice way to generate sets of values (in lists, dictionaries, etc), using a syntax which is *close-to* mathematical  notation. Here is an example, assume that we want to generate the following set S of values:\n",
    "\n",
    "$$ S = \\{ 2x \\mid x \\in \\mathbb{N}, x^2>50, x<100 \\} $$\n"
   ]
  },
  {
   "cell_type": "code",
   "execution_count": 28,
   "metadata": {},
   "outputs": [
    {
     "name": "stdout",
     "output_type": "stream",
     "text": [
      "[np.int64(16), np.int64(18), np.int64(20), np.int64(22), np.int64(24), np.int64(26), np.int64(28), np.int64(30), np.int64(32), np.int64(34), np.int64(36), np.int64(38), np.int64(40), np.int64(42), np.int64(44), np.int64(46), np.int64(48), np.int64(50), np.int64(52), np.int64(54), np.int64(56), np.int64(58), np.int64(60), np.int64(62), np.int64(64), np.int64(66), np.int64(68), np.int64(70), np.int64(72), np.int64(74), np.int64(76), np.int64(78), np.int64(80), np.int64(82), np.int64(84), np.int64(86), np.int64(88), np.int64(90), np.int64(92), np.int64(94), np.int64(96), np.int64(98), np.int64(100), np.int64(102), np.int64(104), np.int64(106), np.int64(108), np.int64(110), np.int64(112), np.int64(114), np.int64(116), np.int64(118), np.int64(120), np.int64(122), np.int64(124), np.int64(126), np.int64(128), np.int64(130), np.int64(132), np.int64(134), np.int64(136), np.int64(138), np.int64(140), np.int64(142), np.int64(144), np.int64(146), np.int64(148), np.int64(150), np.int64(152), np.int64(154), np.int64(156), np.int64(158), np.int64(160), np.int64(162), np.int64(164), np.int64(166), np.int64(168), np.int64(170), np.int64(172), np.int64(174), np.int64(176), np.int64(178), np.int64(180), np.int64(182), np.int64(184), np.int64(186), np.int64(188), np.int64(190), np.int64(192), np.int64(194), np.int64(196), np.int64(198)]\n"
     ]
    }
   ],
   "source": [
    "S = [2*x for x in np.arange(100000) if x**2>50 and x <100]\n",
    "print(S)"
   ]
  },
  {
   "cell_type": "markdown",
   "metadata": {},
   "source": [
    "## Functions and classes\n",
    "### Function calls\n",
    "Python is quite user friendly for function calls. If you don't remember the order of the arguments, you may specify the arguments in any order by using its name. Most functions are also defined with default argument values. In general, have a look at their documentation to know which parameter is compulsory or which parameter is optional with default values. In this example, have a look at the doc of [random.randint()](https://docs.scipy.org/doc/numpy-1.15.1/reference/generated/numpy.random.randint.html)."
   ]
  },
  {
   "cell_type": "code",
   "execution_count": null,
   "metadata": {},
   "outputs": [],
   "source": [
    "a = np.random.randint(1,7)           # function randint picks randomly an int between 1 (incl) and 7 (excl)\n",
    "print(a)\n",
    "b = np.random.randint(high=7, low=1) # this function call is equivalent\n",
    "print(b)"
   ]
  },
  {
   "cell_type": "markdown",
   "metadata": {},
   "source": [
    "In this example below, pay attention to the arguments in the signature of the function. Some arguments have default values that allows users to call this function not specifying these arguments."
   ]
  },
  {
   "cell_type": "markdown",
   "metadata": {},
   "source": [
    "### Function definitions\n",
    "Here is how to define a function. Note that the function documentation is following the `def` line and also note the indentation in the body of the function. Note also that we can define optional parameters with default values, e.g. in this case `findMax`. A call to `help(function_name)` will output the documentation."
   ]
  },
  {
   "cell_type": "code",
   "execution_count": 29,
   "metadata": {},
   "outputs": [
    {
     "name": "stdout",
     "output_type": "stream",
     "text": [
      "Help on function extremum_in_vector in module __main__:\n",
      "\n",
      "extremum_in_vector(v, find_max=True)\n",
      "    Returns the extremum value in the vector v. Argument find_max specify whether to find the max \n",
      "    (default) or min.\n",
      "    precondition: v is a sequence of comparable elements.\n",
      "    Usage: m = extremum_in_vector(v)\n",
      "\n"
     ]
    }
   ],
   "source": [
    "def extremum_in_vector(v, find_max=True):\n",
    "    \"\"\"Returns the extremum value in the vector v. Argument find_max specify whether to find the max \n",
    "    (default) or min.\n",
    "    precondition: v is a sequence of comparable elements.\n",
    "    Usage: m = extremum_in_vector(v)\"\"\"\n",
    "    m = v[0]\n",
    "    for value in v:\n",
    "        if(find_max):\n",
    "            if(m < value):\n",
    "                m = value\n",
    "        else:\n",
    "            if(m > value):\n",
    "                m = value\n",
    "    return m\n",
    "\n",
    "help(extremum_in_vector)"
   ]
  },
  {
   "cell_type": "code",
   "execution_count": 30,
   "metadata": {
    "scrolled": true
   },
   "outputs": [
    {
     "name": "stdout",
     "output_type": "stream",
     "text": [
      "v [3 1 5 4 5 2 1 4 1 1]\n",
      "maximum in v is 5\n",
      "minimum in v is 1\n"
     ]
    }
   ],
   "source": [
    "v = np.random.randint(1, 6, size=10)  #generates 10 integers between 1 and 5\n",
    "\n",
    "print(\"v\", v)\n",
    "print(\"maximum in v is\", extremum_in_vector(v))\n",
    "print(\"minimum in v is\", extremum_in_vector(v, find_max=False))"
   ]
  },
  {
   "cell_type": "markdown",
   "metadata": {},
   "source": [
    "### Classes definitions\n",
    "The syntax for defining classes is pretty straightforward:"
   ]
  },
  {
   "cell_type": "code",
   "execution_count": 31,
   "metadata": {},
   "outputs": [
    {
     "name": "stdout",
     "output_type": "stream",
     "text": [
      "Hello, Jean\n",
      "HELLO, JEAN!\n"
     ]
    }
   ],
   "source": [
    "class Hello(object):\n",
    "\n",
    "    # Constructor\n",
    "    def __init__(self, name):\n",
    "        self.name = name  # Create an instance variable\n",
    "        #self is the equivalent of this in java\n",
    "\n",
    "    # Instance method\n",
    "    def sayhi(self, loud=False):\n",
    "        if loud:\n",
    "            print('HELLO, %s!' % self.name.upper())\n",
    "        else:\n",
    "            print('Hello, %s' % self.name)\n",
    "\n",
    "g = Hello('Jean')    # construct an instance of the class Hello\n",
    "g.sayhi()            # call the instance method sayhi()\n",
    "g.sayhi(loud=True)   # Call the instance method sayhi() specifying the optional argument"
   ]
  },
  {
   "cell_type": "markdown",
   "metadata": {},
   "source": [
    "## Plotting graphs\n",
    "Now let's import `matplotlib.pyplot` for ploting figures. You'll find more info [here](http://matplotlib.org/api/pyplot_api.html) on the API."
   ]
  },
  {
   "cell_type": "code",
   "execution_count": null,
   "metadata": {},
   "outputs": [],
   "source": [
    "%matplotlib inline               \n",
    "# the line above tells iPython to plot the graphs inline, below the cell\n",
    "\n",
    "import numpy as np               # all numpy functions now available as np.*()\n",
    "import matplotlib.pyplot as plt  # all pyplot functions now available as plt.*()\n",
    "x = np.linspace(0,10,400)        # generate an array of 400 points between 0 and 10\n",
    "y = np.sin(x)                    # compute the sin of x, element-wise \n",
    "plt.plot(x,y)                    # generate a graph object (in memory)\n",
    "plt.show()                       # then show the graph"
   ]
  },
  {
   "cell_type": "code",
   "execution_count": 49,
   "metadata": {},
   "outputs": [
    {
     "data": {
      "text/plain": [
       "<Axes: title={'center': 'Tie evolution of the tension \\n with two damping factors'}, xlabel='time', ylabel='U=f(time)'>"
      ]
     },
     "execution_count": 49,
     "metadata": {},
     "output_type": "execute_result"
    },
    {
     "data": {
      "image/png": "[encoded data removed]",
      "text/plain": [
       "<Figure size 640x480 with 1 Axes>"
      ]
     },
     "metadata": {},
     "output_type": "display_data"
    }
   ],
   "source": [
    "import numpy as np               \n",
    "import matplotlib.pyplot as plt  \n",
    "\n",
    "t = np.linspace(0,10,400)                  # time t (will be our x axis)\n",
    "\n",
    "a1 = 0.5                                   # damping factor 1\n",
    "a2 = 0.1                                   # damping factor 2\n",
    "\n",
    "u1 = np.exp(-2*a1*t)*np.cos(2*np.pi*t)     # damped cosine u (will be our y axis)\n",
    "u2 = np.exp(-2*a2*t)*np.cos(2*np.pi*t)\n",
    "\n",
    "plt.plot(t,u1,label=\"A=0.5\")               # plot1 with A = 0.5, with label for legend\n",
    "plt.plot(t,u2,label=\"A=0.1\")               # plot2 with A = 0.1, with label for legend\n",
    "\n",
    "plt.xlim(0, 10)                            # limit the x axis between 0 and 10\n",
    "plt.xlabel(\"time\")                         # x axis label definition\n",
    "\n",
    "plt.ylim(-1, 1)                            # limit the y axis between -1 and 1\n",
    "plt.ylabel(\"U=f(time)\")                    # y axis label definition\n",
    "\n",
    "plt.title(\"Tie evolution of the tension \\n with two damping factors\", fontsize=14)\n",
    "#plt.legend()                               # plot the legend\n",
    "\n",
    "#plt.show()                                 # show the legend\n",
    "#plt.gca()"
   ]
  },
  {
   "cell_type": "code",
   "execution_count": 38,
   "metadata": {},
   "outputs": [
    {
     "data": {
      "image/png": "[encoded data removed]",
      "text/plain": [
       "<Figure size 640x480 with 1 Axes>"
      ]
     },
     "metadata": {},
     "output_type": "display_data"
    }
   ],
   "source": [
    "import numpy as np\n",
    "import matplotlib.pyplot as plt\n",
    "\n",
    "gaussian_numbers = np.random.normal(size=10000)   # generate 10'000 values randomly sampled from a normal dist\n",
    "plt.hist(gaussian_numbers, bins=30, density=True)  # histogram of the values using 30 bins and percent frequency\n",
    "plt.title(\"Gaussian Histogram\")\n",
    "plt.xlabel(\"Value\")\n",
    "plt.ylabel(\"Frequency\")\n",
    "plt.show()"
   ]
  },
  {
   "cell_type": "markdown",
   "metadata": {},
   "source": [
    "### Plot with recursive calls - L-systems"
   ]
  },
  {
   "cell_type": "code",
   "execution_count": 51,
   "metadata": {},
   "outputs": [
    {
     "data": {
      "image/png": "[encoded data removed]",
      "text/plain": [
       "<Figure size 640x480 with 1 Axes>"
      ]
     },
     "metadata": {},
     "output_type": "display_data"
    }
   ],
   "source": [
    "import matplotlib.pyplot as plt\n",
    "import numpy as np\n",
    "\n",
    "def lsystem(pta, angle, length, refAngle, refLengthMultiplier=0.5, level=4):\n",
    "\n",
    "    # computing coordinates of next point\n",
    "    ptb = np.zeros(2)\n",
    "    ptb[0] = pta[0] + length * np.cos(angle)\n",
    "    ptb[1] = pta[1] + length * np.sin(angle)\n",
    "\n",
    "    plt.plot([pta[0], ptb[0]], [pta[1], ptb[1]])\n",
    "\n",
    "    if (level > 0):\n",
    "        # compute angles of three new branches\n",
    "        angle1 = angle - (refAngle*0.5) + np.random.uniform(0, 1.0) * refAngle\n",
    "        angle2 = angle - (refAngle*0.5) + np.random.uniform(0, 1.0) * refAngle\n",
    "        angle3 = angle - (refAngle*0.5) + np.random.uniform(0, 1.0) * refAngle\n",
    "\n",
    "        # compute length of new branches\n",
    "        nextLength = length * refLengthMultiplier;\n",
    "\n",
    "        # recursive call here\n",
    "        lsystem( ptb, angle1, nextLength, refAngle, refLengthMultiplier, level-1)\n",
    "        lsystem( ptb, angle2, nextLength, refAngle, refLengthMultiplier, level-1)\n",
    "        lsystem( ptb, angle3, nextLength, refAngle, refLengthMultiplier, level-1)\n",
    "\n",
    "# demo\n",
    "frame = plt.gca()\n",
    "frame.axes.get_xaxis().set_visible(False)\n",
    "frame.axes.get_yaxis().set_visible(False)\n",
    "plt.axis('equal')\n",
    "\n",
    "lsystem([0,0], np.pi/2, 1.0, np.pi/2, 0.75, 3);       #respecting the order of the arguments\n",
    "lsystem([1,0], np.pi/2, 1.0, np.pi/3);                #using defaults values for refLengthMultiplier and level\n",
    "lsystem([2,0], np.pi/2, 1.0, np.pi/4, 0.75, level=5); #using default for refLengthMultiplier and giving arg by name"
   ]
  },
  {
   "cell_type": "code",
   "execution_count": null,
   "metadata": {},
   "outputs": [],
   "source": []
  }
 ],
 "metadata": {
  "anaconda-cloud": {},
  "kernelspec": {
   "display_name": "Python 3 (ipykernel)",
   "language": "python",
   "name": "python3"
  },
  "language_info": {
   "codemirror_mode": {
    "name": "ipython",
    "version": 3
   },
   "file_extension": ".py",
   "mimetype": "text/x-python",
   "name": "python",
   "nbconvert_exporter": "python",
   "pygments_lexer": "ipython3",
   "version": "3.11.6"
  }
 },
 "nbformat": 4,
 "nbformat_minor": 4
}
