{
 "cells": [
  {
   "cell_type": "code",
   "execution_count": null,
   "id": "f9518751-288d-4fb6-b689-39c5bcf8cfeb",
   "metadata": {},
   "outputs": [],
   "source": []
  }
 ],
 "metadata": {
  "kernelspec": {
   "display_name": "",
   "name": ""
  },
  "language_info": {
   "name": ""
  }
 },
 "nbformat": 4,
 "nbformat_minor": 5
}
