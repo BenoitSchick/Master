{
 "cells": [
  {
   "cell_type": "markdown",
   "metadata": {},
   "source": [
    "## Schick Benoit - Dalloshi Lorend - Uluçinar Muhammed Ali"
   ]
  },
  {
   "cell_type": "markdown",
   "metadata": {
    "collapsed": true,
    "jupyter": {
     "outputs_hidden": true
    }
   },
   "source": [
    "## Exercise 1 - Bayes classification system"
   ]
  },
  {
   "cell_type": "markdown",
   "metadata": {},
   "source": [
    "### Description des données\n",
    "- Features :\n",
    "    - x_n1 = résultat du 1er examen\n",
    "    - x_n2 = résultat du 2eme examen\n",
    "\n",
    "- Labels :\n",
    "    - y = decision d'admission (0 = non admis, 1 = admis)\n",
    "      \n",
    "- Classes (labels)\n",
    "    - C0 = non admis\n",
    "    - C1 = admis"
   ]
  },
  {
   "cell_type": "code",
   "execution_count": 120,
   "metadata": {},
   "outputs": [],
   "source": [
    "# Import some useful libraries\n",
    "\n",
    "import math\n",
    "\n",
    "import matplotlib.pyplot as plt\n",
    "import numpy as np\n",
    "import pandas as pd\n",
    "from sklearn.model_selection import train_test_split\n",
    "from sklearn.preprocessing import OrdinalEncoder, StandardScaler"
   ]
  },
  {
   "cell_type": "markdown",
   "metadata": {},
   "source": [
    "## 1a. Getting started with Bayes"
   ]
  },
  {
   "cell_type": "markdown",
   "metadata": {},
   "source": [
    "a) Read the training data from file ex1-data-train.csv. The first two columns are x1 and x2. The last column holds the class label y."
   ]
  },
  {
   "cell_type": "code",
   "execution_count": 121,
   "metadata": {
    "pycharm": {
     "is_executing": false
    }
   },
   "outputs": [],
   "source": [
    "def read_data(file):\n",
    "    dataset = pd.read_csv(file, names=['x1','x2','y'])\n",
    "    print(dataset.head())\n",
    "    return dataset[[\"x1\", \"x2\"]], dataset[\"y\"].values"
   ]
  },
  {
   "cell_type": "code",
   "execution_count": 122,
   "metadata": {},
   "outputs": [
    {
     "name": "stdout",
     "output_type": "stream",
     "text": [
      "          x1         x2  y\n",
      "0  34.623660  78.024693  0\n",
      "1  30.286711  43.894998  0\n",
      "2  35.847409  72.902198  0\n",
      "3  60.182599  86.308552  1\n",
      "4  79.032736  75.344376  1\n"
     ]
    }
   ],
   "source": [
    "X_train, y_train = read_data(\"ex1-data-train.csv\")"
   ]
  },
  {
   "cell_type": "code",
   "execution_count": 123,
   "metadata": {},
   "outputs": [],
   "source": [
    "# Prepare a function to compute accuracy\n",
    "def accuracy_score(y_true, y_pred):\n",
    "    return (y_true == y_pred).sum() / y_true.size"
   ]
  },
  {
   "cell_type": "markdown",
   "metadata": {},
   "source": [
    "b) Compute the priors of both classes P(C0) and P(C1)"
   ]
  },
  {
   "cell_type": "code",
   "execution_count": 124,
   "metadata": {
    "pycharm": {
     "is_executing": false
    }
   },
   "outputs": [
    {
     "name": "stdout",
     "output_type": "stream",
     "text": [
      "PCO :  0.4\n",
      "PC1 :  0.6\n"
     ]
    }
   ],
   "source": [
    "# TODO: Compute the priors\n",
    "nb_student = X_train.shape[0]\n",
    "nb_admis = 0\n",
    "\n",
    "for i in range(nb_student):\n",
    "    if y_train[i] == 1:\n",
    "        nb_admis += 1\n",
    "\n",
    "P_CO = (nb_student-nb_admis)/nb_student\n",
    "P_C1 = nb_admis/nb_student\n",
    "\n",
    "print(\"PCO : \", P_CO)\n",
    "print(\"PC1 : \", P_C1)"
   ]
  },
  {
   "cell_type": "markdown",
   "metadata": {},
   "source": [
    "c) Compute histograms of x1 and x2 for each class (total of 4 histograms). Plot these histograms. Advice : use the numpy `histogram(a, bins=\"auto\")` function."
   ]
  },
  {
   "cell_type": "code",
   "execution_count": 125,
   "metadata": {
    "pycharm": {
     "is_executing": false
    }
   },
   "outputs": [
    {
     "data": {
      "image/png": "[encoded data removed]",
      "text/plain": [
       "<Figure size 1600x600 with 2 Axes>"
      ]
     },
     "metadata": {},
     "output_type": "display_data"
    }
   ],
   "source": [
    "# TODO: Compute histograms\n",
    "\n",
    "array_x1_C0 = np.zeros(nb_student-nb_admis)\n",
    "array_x2_C0 = np.zeros(nb_student-nb_admis)\n",
    "array_x1_C1 = np.zeros(nb_admis)\n",
    "array_x2_C1 = np.zeros(nb_admis)\n",
    "\n",
    "indice_non_admis=0\n",
    "indice_admis=0\n",
    "for i in range(nb_student):\n",
    "    \n",
    "    if y_train[i] == 0:\n",
    "        array_x1_C0[indice_non_admis] = X_train.iloc[i,0]\n",
    "        array_x2_C0[indice_non_admis] = X_train.iloc[i,1]\n",
    "        indice_non_admis += 1\n",
    "    else:\n",
    "        array_x1_C1[indice_admis] = X_train.iloc[i,0]\n",
    "        array_x2_C1[indice_admis] = X_train.iloc[i,1]\n",
    "        indice_admis += 1\n",
    "\n",
    "        \n",
    "# TODO: plot histograms\n",
    "\n",
    "bins = np.arange(30, 101, 10)\n",
    "\n",
    "plt.figure(figsize=(16,6))\n",
    "\n",
    "plt.subplot(1, 2, 1)\n",
    "plt.hist(array_x1_C0,bins=bins,label=\"C0\", alpha=0.5, color=\"tab:blue\", edgecolor=\"black\")\n",
    "plt.hist(array_x1_C1,bins=bins,label=\"C1\", alpha=0.5, color=\"tab:orange\", edgecolor=\"black\")\n",
    "plt.xlabel('Likelihood hist - Exam 1')\n",
    "plt.legend()\n",
    "\n",
    "plt.subplot(1, 2, 2)\n",
    "\n",
    "plt.hist(array_x2_C0,bins=bins,label=\"C0\", alpha=0.5, color=\"tab:blue\", edgecolor=\"black\")\n",
    "plt.hist(array_x2_C1,bins=bins,label=\"C1\", alpha=0.5, color=\"tab:orange\", edgecolor=\"black\")\n",
    "plt.xlabel('Likelihood hist - Exam 2')\n",
    "plt.legend()\n",
    "\n",
    "plt.show()"
   ]
  },
  {
   "cell_type": "markdown",
   "metadata": {},
   "source": [
    "d) Use the histograms to compute the likelihoods p(x1|C0), p(x1|C1), p(x2|C0) and p(x2|C1). For this define a function `likelihood_hist(x, hist_values, edge_values)` that returns the likelihood of x for a given histogram (defined by its values and bin edges as returned by the numpy `histogram()` function)."
   ]
  },
  {
   "cell_type": "code",
   "execution_count": 126,
   "metadata": {
    "pycharm": {
     "is_executing": false
    }
   },
   "outputs": [],
   "source": [
    "def likelihood_hist(x: float, hist_values: np.ndarray, bin_edges: np.ndarray) -> float:\n",
    "    # TODO: compute likelihoods from histograms outputs\n",
    "    bin_index = 0\n",
    "    cardinalities = np.sum(hist_values)\n",
    "    for i in range(len(bin_edges)):\n",
    "        if x < bin_edges[i]:\n",
    "            bin_index = i-1\n",
    "            break;\n",
    "    \n",
    "    return hist_values[bin_index]/cardinalities\n",
    "\n",
    "#hist_values, bin_edges = np.histogram(array_x1_C0, bins=bins)\n",
    "#print(likelihood_hist(55, hist_values, bin_edges))"
   ]
  },
  {
   "cell_type": "markdown",
   "metadata": {},
   "source": [
    "e) Implement the classification decision according to Bayes rule and compute the overall accuracy of the system on the test set ex1-data-test.csv. :\n",
    "- using only feature x1\n",
    "- using only feature x2\n",
    "- using x1 and x2 making the naive Bayes hypothesis of feature independence, i.e. p(X|Ck) = p(x1|Ck) · p(x2|Ck)"
   ]
  },
  {
   "cell_type": "code",
   "execution_count": 127,
   "metadata": {
    "pycharm": {
     "is_executing": false
    }
   },
   "outputs": [
    {
     "name": "stdout",
     "output_type": "stream",
     "text": [
      "          x1         x2  y\n",
      "0  39.196334  78.530294  0\n",
      "1  40.448499  86.839470  1\n",
      "2  65.571920  44.303497  0\n",
      "3  79.648113  70.806564  1\n",
      "4  66.260221  41.672703  0\n"
     ]
    }
   ],
   "source": [
    "X_test, y_test = read_data(\"ex1-data-test.csv\")"
   ]
  },
  {
   "cell_type": "code",
   "execution_count": 139,
   "metadata": {
    "pycharm": {
     "is_executing": false
    }
   },
   "outputs": [
    {
     "name": "stdout",
     "output_type": "stream",
     "text": [
      "0.62\n",
      "0.73\n",
      "0.83\n"
     ]
    }
   ],
   "source": [
    "# TODO: predict on test set in the 3 cases described above\n",
    "\n",
    "num_test =  X_test.shape[0]\n",
    "y_pred = np.zeros(num_test)\n",
    "bayes_prob_tab = np.zeros((num_test, 2))\n",
    "\n",
    "\n",
    "hist_values_X1C0, bin_edges = np.histogram(array_x1_C0, bins=bins)\n",
    "hist_values_X1C1, bin_edges = np.histogram(array_x1_C1, bins=bins)\n",
    "hist_values_X2C0, bin_edges = np.histogram(array_x2_C0, bins=bins)\n",
    "hist_values_X2C1, bin_edges = np.histogram(array_x2_C1, bins=bins)\n",
    "\n",
    "\n",
    "################\n",
    "## likelihood ##\n",
    "################\n",
    "\n",
    "P_X1C0 = np.zeros(num_test)\n",
    "P_X1C1 = np.zeros(num_test)\n",
    "P_X2C0 = np.zeros(num_test)\n",
    "P_X2C1 = np.zeros(num_test)\n",
    "\n",
    "for i, x_test_value in enumerate(X_test.x1):\n",
    "    P_X1C0[i] = likelihood_hist(x_test_value, hist_values_X1C0, bin_edges)\n",
    "    P_X1C1[i] = likelihood_hist(x_test_value, hist_values_X1C1, bin_edges)\n",
    "\n",
    "for i, x_test_value in enumerate(X_test.x2):\n",
    "    P_X2C0[i] = likelihood_hist(x_test_value, hist_values_X2C0, bin_edges)\n",
    "    P_X2C1[i] = likelihood_hist(x_test_value, hist_values_X2C1, bin_edges)\n",
    "\n",
    "########################\n",
    "## A posteriori proba ##\n",
    "########################\n",
    "\n",
    "# only feature x1\n",
    "for i in range(num_test):\n",
    "    PC0_x1 = P_X1C0[i] * P_CO\n",
    "    PC1_x1 = P_X1C1[i] * P_C1\n",
    "    bayes_prob_tab[i] = [PC0_x1, PC1_x1]\n",
    "    y_pred[i] = np.argmax(bayes_prob_tab[i])\n",
    "\n",
    "print(accuracy_score(y_test, y_pred))\n",
    "\n",
    "# only feature x2\n",
    "for i in range(num_test):\n",
    "    PC0_x2 = P_X2C0[i] * P_CO\n",
    "    PC1_x2 = P_X2C1[i] * P_C1\n",
    "    bayes_prob_tab[i] = [PC0_x2, PC1_x2]\n",
    "    y_pred[i] = np.argmax(bayes_prob_tab[i])\n",
    "    \n",
    "print(accuracy_score(y_test, y_pred))\n",
    "\n",
    "# feature x1, x2\n",
    "for i in range(num_test):\n",
    "    PC0_x1x2 = P_X1C0[i] * P_X2C0[i] * P_CO\n",
    "    PC1_x1x2 = P_X1C1[i] * P_X2C1[i] * P_C1\n",
    "    bayes_prob_tab[i] = [PC0_x1x2, PC1_x1x2]\n",
    "    y_pred[i] = np.argmax(bayes_prob_tab[i])\n",
    "\n",
    "print(accuracy_score(y_test, y_pred))"
   ]
  },
  {
   "cell_type": "markdown",
   "metadata": {},
   "source": [
    "Which system is the best ?"
   ]
  },
  {
   "cell_type": "markdown",
   "metadata": {},
   "source": [
    "TODO:\n",
    "Le meilleur système est celui avec 2 features (accuracy de 83%) parce-que lorsqu'on introduit 2 features, les classes C0 et C1 sont bien délimitées (cf. figure 1 dans la donnée)"
   ]
  },
  {
   "cell_type": "markdown",
   "metadata": {},
   "source": [
    "## 1b. Bayes - Univariate Gaussian distribution"
   ]
  },
  {
   "cell_type": "markdown",
   "metadata": {},
   "source": [
    "Do the same as in a) but this time using univariate Gaussian distribution to model the likelihoods p(x1|C0), p(x1|C1), p(x2|C0) and p(x2|C1). You may use the numpy functions `mean()` and `var()` to compute the mean μ and variance σ2 of the distribution. To model the likelihood of both features, you may also do the naive Bayes hypothesis of feature independence, i.e. p(X|Ck) = p(x1|Ck) · p(x2|Ck).\n"
   ]
  },
  {
   "cell_type": "code",
   "execution_count": 130,
   "metadata": {
    "pycharm": {
     "is_executing": false
    }
   },
   "outputs": [],
   "source": [
    "def likelihood_univariate_gaussian(x: float, mean: float, var: float) -> float:\n",
    "    # TODO: compute likelihoods from histograms outputs\n",
    "    return (1/(np.sqrt(2*np.pi*var))) * np.exp(-1/(2*var)*(x-mean)**2)"
   ]
  },
  {
   "cell_type": "code",
   "execution_count": 142,
   "metadata": {
    "pycharm": {
     "is_executing": false
    }
   },
   "outputs": [],
   "source": [
    "# TODO: Compute mean and variance for each classes and each features (8 values)\n",
    "mu_X1C0 = np.mean(array_x1_C0)\n",
    "mu_X1C1 = np.mean(array_x1_C1)\n",
    "mu_X2C0 = np.mean(array_x2_C0)\n",
    "mu_X2C1 = np.mean(array_x2_C1)\n",
    "\n",
    "var_X1C0 = np.var(array_x1_C0)\n",
    "var_X1C1 = np.var(array_x1_C1)\n",
    "var_X2C0 = np.var(array_x2_C0)\n",
    "var_X2C1 = np.var(array_x2_C1)"
   ]
  },
  {
   "cell_type": "code",
   "execution_count": 144,
   "metadata": {},
   "outputs": [
    {
     "name": "stdout",
     "output_type": "stream",
     "text": [
      "0.71\n",
      "0.72\n",
      "0.89\n"
     ]
    }
   ],
   "source": [
    "# TODO: predict on test set in the 3 cases\n",
    "\n",
    "################\n",
    "## likelihood ##\n",
    "################\n",
    "\n",
    "P_X1C0 = np.zeros(num_test)\n",
    "P_X1C1 = np.zeros(num_test)\n",
    "P_X2C0 = np.zeros(num_test)\n",
    "P_X2C1 = np.zeros(num_test)\n",
    "\n",
    "for i, x_test_value in enumerate(X_test.x1):\n",
    "    P_X1C0[i] = likelihood_univariate_gaussian(x_test_value, mu_X1C0, var_X1C0)\n",
    "    P_X1C1[i] = likelihood_univariate_gaussian(x_test_value, mu_X1C1, var_X1C1)\n",
    "\n",
    "for i, x_test_value in enumerate(X_test.x2):\n",
    "    P_X2C0[i] = likelihood_univariate_gaussian(x_test_value, mu_X2C0, var_X2C0)\n",
    "    P_X2C1[i] = likelihood_univariate_gaussian(x_test_value, mu_X2C1, var_X2C1)\n",
    "\n",
    "########################\n",
    "## A posteriori proba ##\n",
    "########################\n",
    "\n",
    "# only feature x1\n",
    "for i in range(num_test):\n",
    "    PC0_x1 = P_X1C0[i] * P_CO\n",
    "    PC1_x1 = P_X1C1[i] * P_C1\n",
    "    bayes_prob_tab[i] = [PC0_x1, PC1_x1]\n",
    "    y_pred[i] = np.argmax(bayes_prob_tab[i])\n",
    "\n",
    "print(accuracy_score(y_test, y_pred))\n",
    "\n",
    "# only feature x2\n",
    "for i in range(num_test):\n",
    "    PC0_x2 = P_X2C0[i] * P_CO\n",
    "    PC1_x2 = P_X2C1[i] * P_C1\n",
    "    bayes_prob_tab[i] = [PC0_x2, PC1_x2]\n",
    "    y_pred[i] = np.argmax(bayes_prob_tab[i])\n",
    "    \n",
    "print(accuracy_score(y_test, y_pred))\n",
    "\n",
    "# feature x1, x2\n",
    "for i in range(num_test):\n",
    "    PC0_x1x2 = P_X1C0[i] * P_X2C0[i] * P_CO\n",
    "    PC1_x1x2 = P_X1C1[i] * P_X2C1[i] * P_C1\n",
    "    bayes_prob_tab[i] = [PC0_x1x2, PC1_x1x2]\n",
    "    y_pred[i] = np.argmax(bayes_prob_tab[i])\n",
    "\n",
    "print(accuracy_score(y_test, y_pred))"
   ]
  },
  {
   "cell_type": "code",
   "execution_count": null,
   "metadata": {},
   "outputs": [],
   "source": []
  }
 ],
 "metadata": {
  "kernelspec": {
   "display_name": "Python 3 (ipykernel)",
   "language": "python",
   "name": "python3"
  },
  "language_info": {
   "codemirror_mode": {
    "name": "ipython",
    "version": 3
   },
   "file_extension": ".py",
   "mimetype": "text/x-python",
   "name": "python",
   "nbconvert_exporter": "python",
   "pygments_lexer": "ipython3",
   "version": "3.10.0"
  },
  "pycharm": {
   "stem_cell": {
    "cell_type": "raw",
    "metadata": {
     "collapsed": false
    },
    "source": []
   }
  }
 },
 "nbformat": 4,
 "nbformat_minor": 4
}
